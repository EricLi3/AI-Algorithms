{
  "cells": [
    {
      "cell_type": "markdown",
      "metadata": {
        "id": "view-in-github",
        "colab_type": "text"
      },
      "source": [
        "<a href=\"https://colab.research.google.com/github/EricLi3/AI-Algorithms/blob/master/MidtermDataAnalysis.ipynb\" target=\"_parent\"><img src=\"https://colab.research.google.com/assets/colab-badge.svg\" alt=\"Open In Colab\"/></a>"
      ]
    },
    {
      "cell_type": "markdown",
      "id": "3b47f6ff-5a5c-4915-bfc6-765339c0b974",
      "metadata": {
        "id": "3b47f6ff-5a5c-4915-bfc6-765339c0b974"
      },
      "source": [
        "# Descriptive Statistics and Some Data Cleaning (Class 2)\n",
        "  #### Upload the SalesData.csv to files before you run the codes in this notebook\n",
        "\n",
        "\n",
        "---\n",
        "\n",
        "\n",
        "  \n",
        "\n",
        "---\n",
        "\n",
        "\n"
      ]
    },
    {
      "cell_type": "code",
      "execution_count": 3,
      "id": "be13d5db-82f7-4b9c-bc6c-78fc347f73f2",
      "metadata": {
        "id": "be13d5db-82f7-4b9c-bc6c-78fc347f73f2"
      },
      "outputs": [],
      "source": [
        "import pandas as pd\n",
        "import os\n",
        "\n",
        "file_path = \"Worldwide Video Game Market Dataset (for midterm presentation).xlsx\"\n",
        "df = pd.read_excel(file_path, sheet_name='Worldwide Video Game Market', header=1, index_col=False)"
      ]
    },
    {
      "cell_type": "markdown",
      "id": "cba7b9d7-063f-4544-9232-1e82deb6bddf",
      "metadata": {
        "id": "cba7b9d7-063f-4544-9232-1e82deb6bddf"
      },
      "source": [
        "## 2. Read In and Describe the Data"
      ]
    },
    {
      "cell_type": "code",
      "execution_count": 4,
      "id": "080af154-8da1-41b6-9bba-4d9b0bacced9",
      "metadata": {
        "id": "080af154-8da1-41b6-9bba-4d9b0bacced9",
        "colab": {
          "base_uri": "https://localhost:8080/",
          "height": 481
        },
        "outputId": "1c76d33f-1450-4a10-df11-e8ad5b07f8f0"
      },
      "outputs": [
        {
          "output_type": "execute_result",
          "data": {
            "text/plain": [
              "                Rank                         Name Platform          Year  \\\n",
              "count   16598.000000                        16598    16598  16327.000000   \n",
              "unique           NaN                        11493       31           NaN   \n",
              "top              NaN  Need for Speed: Most Wanted       DS           NaN   \n",
              "freq             NaN                           12     2163           NaN   \n",
              "mean     8300.605254                          NaN      NaN   2006.406443   \n",
              "std      4791.853933                          NaN      NaN      5.828981   \n",
              "min         1.000000                          NaN      NaN   1980.000000   \n",
              "25%      4151.250000                          NaN      NaN   2003.000000   \n",
              "50%      8300.500000                          NaN      NaN   2007.000000   \n",
              "75%     12449.750000                          NaN      NaN   2010.000000   \n",
              "max     16600.000000                          NaN      NaN   2020.000000   \n",
              "\n",
              "         Genre        Publisher  North America_Sales \\n($ in millions)  \\\n",
              "count    16598            16540                           16593.000000   \n",
              "unique      12              578                                    NaN   \n",
              "top     Action  Electronic Arts                                    NaN   \n",
              "freq      3316             1351                                    NaN   \n",
              "mean       NaN              NaN                               0.264747   \n",
              "std        NaN              NaN                               0.816793   \n",
              "min        NaN              NaN                               0.000000   \n",
              "25%        NaN              NaN                               0.000000   \n",
              "50%        NaN              NaN                               0.080000   \n",
              "75%        NaN              NaN                               0.240000   \n",
              "max        NaN              NaN                              41.490000   \n",
              "\n",
              "        Europe_Sales \\n($ in millions)  Japan_Sales\\n($ in millions)  \\\n",
              "count                     16587.000000                  16560.000000   \n",
              "unique                             NaN                           NaN   \n",
              "top                                NaN                           NaN   \n",
              "freq                               NaN                           NaN   \n",
              "mean                          0.146749                      0.077960   \n",
              "std                           0.505505                      0.309623   \n",
              "min                           0.000000                      0.000000   \n",
              "25%                           0.000000                      0.000000   \n",
              "50%                           0.020000                      0.000000   \n",
              "75%                           0.110000                      0.040000   \n",
              "max                          29.020000                     10.220000   \n",
              "\n",
              "        Other_Sales \\n($ in millions)  Global_Sales \\n($ in millions)  \n",
              "count                    16590.000000                    16598.000000  \n",
              "unique                            NaN                             NaN  \n",
              "top                               NaN                             NaN  \n",
              "freq                              NaN                             NaN  \n",
              "mean                         0.048086                        0.537441  \n",
              "std                          0.188631                        1.555028  \n",
              "min                          0.000000                        0.010000  \n",
              "25%                          0.000000                        0.060000  \n",
              "50%                          0.010000                        0.170000  \n",
              "75%                          0.040000                        0.470000  \n",
              "max                         10.570000                       82.740000  "
            ],
            "text/html": [
              "\n",
              "  <div id=\"df-8e9d482e-d974-4a61-92d9-7760a7cfc180\" class=\"colab-df-container\">\n",
              "    <div>\n",
              "<style scoped>\n",
              "    .dataframe tbody tr th:only-of-type {\n",
              "        vertical-align: middle;\n",
              "    }\n",
              "\n",
              "    .dataframe tbody tr th {\n",
              "        vertical-align: top;\n",
              "    }\n",
              "\n",
              "    .dataframe thead th {\n",
              "        text-align: right;\n",
              "    }\n",
              "</style>\n",
              "<table border=\"1\" class=\"dataframe\">\n",
              "  <thead>\n",
              "    <tr style=\"text-align: right;\">\n",
              "      <th></th>\n",
              "      <th>Rank</th>\n",
              "      <th>Name</th>\n",
              "      <th>Platform</th>\n",
              "      <th>Year</th>\n",
              "      <th>Genre</th>\n",
              "      <th>Publisher</th>\n",
              "      <th>North America_Sales \\n($ in millions)</th>\n",
              "      <th>Europe_Sales \\n($ in millions)</th>\n",
              "      <th>Japan_Sales\\n($ in millions)</th>\n",
              "      <th>Other_Sales \\n($ in millions)</th>\n",
              "      <th>Global_Sales \\n($ in millions)</th>\n",
              "    </tr>\n",
              "  </thead>\n",
              "  <tbody>\n",
              "    <tr>\n",
              "      <th>count</th>\n",
              "      <td>16598.000000</td>\n",
              "      <td>16598</td>\n",
              "      <td>16598</td>\n",
              "      <td>16327.000000</td>\n",
              "      <td>16598</td>\n",
              "      <td>16540</td>\n",
              "      <td>16593.000000</td>\n",
              "      <td>16587.000000</td>\n",
              "      <td>16560.000000</td>\n",
              "      <td>16590.000000</td>\n",
              "      <td>16598.000000</td>\n",
              "    </tr>\n",
              "    <tr>\n",
              "      <th>unique</th>\n",
              "      <td>NaN</td>\n",
              "      <td>11493</td>\n",
              "      <td>31</td>\n",
              "      <td>NaN</td>\n",
              "      <td>12</td>\n",
              "      <td>578</td>\n",
              "      <td>NaN</td>\n",
              "      <td>NaN</td>\n",
              "      <td>NaN</td>\n",
              "      <td>NaN</td>\n",
              "      <td>NaN</td>\n",
              "    </tr>\n",
              "    <tr>\n",
              "      <th>top</th>\n",
              "      <td>NaN</td>\n",
              "      <td>Need for Speed: Most Wanted</td>\n",
              "      <td>DS</td>\n",
              "      <td>NaN</td>\n",
              "      <td>Action</td>\n",
              "      <td>Electronic Arts</td>\n",
              "      <td>NaN</td>\n",
              "      <td>NaN</td>\n",
              "      <td>NaN</td>\n",
              "      <td>NaN</td>\n",
              "      <td>NaN</td>\n",
              "    </tr>\n",
              "    <tr>\n",
              "      <th>freq</th>\n",
              "      <td>NaN</td>\n",
              "      <td>12</td>\n",
              "      <td>2163</td>\n",
              "      <td>NaN</td>\n",
              "      <td>3316</td>\n",
              "      <td>1351</td>\n",
              "      <td>NaN</td>\n",
              "      <td>NaN</td>\n",
              "      <td>NaN</td>\n",
              "      <td>NaN</td>\n",
              "      <td>NaN</td>\n",
              "    </tr>\n",
              "    <tr>\n",
              "      <th>mean</th>\n",
              "      <td>8300.605254</td>\n",
              "      <td>NaN</td>\n",
              "      <td>NaN</td>\n",
              "      <td>2006.406443</td>\n",
              "      <td>NaN</td>\n",
              "      <td>NaN</td>\n",
              "      <td>0.264747</td>\n",
              "      <td>0.146749</td>\n",
              "      <td>0.077960</td>\n",
              "      <td>0.048086</td>\n",
              "      <td>0.537441</td>\n",
              "    </tr>\n",
              "    <tr>\n",
              "      <th>std</th>\n",
              "      <td>4791.853933</td>\n",
              "      <td>NaN</td>\n",
              "      <td>NaN</td>\n",
              "      <td>5.828981</td>\n",
              "      <td>NaN</td>\n",
              "      <td>NaN</td>\n",
              "      <td>0.816793</td>\n",
              "      <td>0.505505</td>\n",
              "      <td>0.309623</td>\n",
              "      <td>0.188631</td>\n",
              "      <td>1.555028</td>\n",
              "    </tr>\n",
              "    <tr>\n",
              "      <th>min</th>\n",
              "      <td>1.000000</td>\n",
              "      <td>NaN</td>\n",
              "      <td>NaN</td>\n",
              "      <td>1980.000000</td>\n",
              "      <td>NaN</td>\n",
              "      <td>NaN</td>\n",
              "      <td>0.000000</td>\n",
              "      <td>0.000000</td>\n",
              "      <td>0.000000</td>\n",
              "      <td>0.000000</td>\n",
              "      <td>0.010000</td>\n",
              "    </tr>\n",
              "    <tr>\n",
              "      <th>25%</th>\n",
              "      <td>4151.250000</td>\n",
              "      <td>NaN</td>\n",
              "      <td>NaN</td>\n",
              "      <td>2003.000000</td>\n",
              "      <td>NaN</td>\n",
              "      <td>NaN</td>\n",
              "      <td>0.000000</td>\n",
              "      <td>0.000000</td>\n",
              "      <td>0.000000</td>\n",
              "      <td>0.000000</td>\n",
              "      <td>0.060000</td>\n",
              "    </tr>\n",
              "    <tr>\n",
              "      <th>50%</th>\n",
              "      <td>8300.500000</td>\n",
              "      <td>NaN</td>\n",
              "      <td>NaN</td>\n",
              "      <td>2007.000000</td>\n",
              "      <td>NaN</td>\n",
              "      <td>NaN</td>\n",
              "      <td>0.080000</td>\n",
              "      <td>0.020000</td>\n",
              "      <td>0.000000</td>\n",
              "      <td>0.010000</td>\n",
              "      <td>0.170000</td>\n",
              "    </tr>\n",
              "    <tr>\n",
              "      <th>75%</th>\n",
              "      <td>12449.750000</td>\n",
              "      <td>NaN</td>\n",
              "      <td>NaN</td>\n",
              "      <td>2010.000000</td>\n",
              "      <td>NaN</td>\n",
              "      <td>NaN</td>\n",
              "      <td>0.240000</td>\n",
              "      <td>0.110000</td>\n",
              "      <td>0.040000</td>\n",
              "      <td>0.040000</td>\n",
              "      <td>0.470000</td>\n",
              "    </tr>\n",
              "    <tr>\n",
              "      <th>max</th>\n",
              "      <td>16600.000000</td>\n",
              "      <td>NaN</td>\n",
              "      <td>NaN</td>\n",
              "      <td>2020.000000</td>\n",
              "      <td>NaN</td>\n",
              "      <td>NaN</td>\n",
              "      <td>41.490000</td>\n",
              "      <td>29.020000</td>\n",
              "      <td>10.220000</td>\n",
              "      <td>10.570000</td>\n",
              "      <td>82.740000</td>\n",
              "    </tr>\n",
              "  </tbody>\n",
              "</table>\n",
              "</div>\n",
              "    <div class=\"colab-df-buttons\">\n",
              "\n",
              "  <div class=\"colab-df-container\">\n",
              "    <button class=\"colab-df-convert\" onclick=\"convertToInteractive('df-8e9d482e-d974-4a61-92d9-7760a7cfc180')\"\n",
              "            title=\"Convert this dataframe to an interactive table.\"\n",
              "            style=\"display:none;\">\n",
              "\n",
              "  <svg xmlns=\"http://www.w3.org/2000/svg\" height=\"24px\" viewBox=\"0 -960 960 960\">\n",
              "    <path d=\"M120-120v-720h720v720H120Zm60-500h600v-160H180v160Zm220 220h160v-160H400v160Zm0 220h160v-160H400v160ZM180-400h160v-160H180v160Zm440 0h160v-160H620v160ZM180-180h160v-160H180v160Zm440 0h160v-160H620v160Z\"/>\n",
              "  </svg>\n",
              "    </button>\n",
              "\n",
              "  <style>\n",
              "    .colab-df-container {\n",
              "      display:flex;\n",
              "      gap: 12px;\n",
              "    }\n",
              "\n",
              "    .colab-df-convert {\n",
              "      background-color: #E8F0FE;\n",
              "      border: none;\n",
              "      border-radius: 50%;\n",
              "      cursor: pointer;\n",
              "      display: none;\n",
              "      fill: #1967D2;\n",
              "      height: 32px;\n",
              "      padding: 0 0 0 0;\n",
              "      width: 32px;\n",
              "    }\n",
              "\n",
              "    .colab-df-convert:hover {\n",
              "      background-color: #E2EBFA;\n",
              "      box-shadow: 0px 1px 2px rgba(60, 64, 67, 0.3), 0px 1px 3px 1px rgba(60, 64, 67, 0.15);\n",
              "      fill: #174EA6;\n",
              "    }\n",
              "\n",
              "    .colab-df-buttons div {\n",
              "      margin-bottom: 4px;\n",
              "    }\n",
              "\n",
              "    [theme=dark] .colab-df-convert {\n",
              "      background-color: #3B4455;\n",
              "      fill: #D2E3FC;\n",
              "    }\n",
              "\n",
              "    [theme=dark] .colab-df-convert:hover {\n",
              "      background-color: #434B5C;\n",
              "      box-shadow: 0px 1px 3px 1px rgba(0, 0, 0, 0.15);\n",
              "      filter: drop-shadow(0px 1px 2px rgba(0, 0, 0, 0.3));\n",
              "      fill: #FFFFFF;\n",
              "    }\n",
              "  </style>\n",
              "\n",
              "    <script>\n",
              "      const buttonEl =\n",
              "        document.querySelector('#df-8e9d482e-d974-4a61-92d9-7760a7cfc180 button.colab-df-convert');\n",
              "      buttonEl.style.display =\n",
              "        google.colab.kernel.accessAllowed ? 'block' : 'none';\n",
              "\n",
              "      async function convertToInteractive(key) {\n",
              "        const element = document.querySelector('#df-8e9d482e-d974-4a61-92d9-7760a7cfc180');\n",
              "        const dataTable =\n",
              "          await google.colab.kernel.invokeFunction('convertToInteractive',\n",
              "                                                    [key], {});\n",
              "        if (!dataTable) return;\n",
              "\n",
              "        const docLinkHtml = 'Like what you see? Visit the ' +\n",
              "          '<a target=\"_blank\" href=https://colab.research.google.com/notebooks/data_table.ipynb>data table notebook</a>'\n",
              "          + ' to learn more about interactive tables.';\n",
              "        element.innerHTML = '';\n",
              "        dataTable['output_type'] = 'display_data';\n",
              "        await google.colab.output.renderOutput(dataTable, element);\n",
              "        const docLink = document.createElement('div');\n",
              "        docLink.innerHTML = docLinkHtml;\n",
              "        element.appendChild(docLink);\n",
              "      }\n",
              "    </script>\n",
              "  </div>\n",
              "\n",
              "\n",
              "<div id=\"df-edd637c8-997a-442d-9995-00730665c62b\">\n",
              "  <button class=\"colab-df-quickchart\" onclick=\"quickchart('df-edd637c8-997a-442d-9995-00730665c62b')\"\n",
              "            title=\"Suggest charts\"\n",
              "            style=\"display:none;\">\n",
              "\n",
              "<svg xmlns=\"http://www.w3.org/2000/svg\" height=\"24px\"viewBox=\"0 0 24 24\"\n",
              "     width=\"24px\">\n",
              "    <g>\n",
              "        <path d=\"M19 3H5c-1.1 0-2 .9-2 2v14c0 1.1.9 2 2 2h14c1.1 0 2-.9 2-2V5c0-1.1-.9-2-2-2zM9 17H7v-7h2v7zm4 0h-2V7h2v10zm4 0h-2v-4h2v4z\"/>\n",
              "    </g>\n",
              "</svg>\n",
              "  </button>\n",
              "\n",
              "<style>\n",
              "  .colab-df-quickchart {\n",
              "      --bg-color: #E8F0FE;\n",
              "      --fill-color: #1967D2;\n",
              "      --hover-bg-color: #E2EBFA;\n",
              "      --hover-fill-color: #174EA6;\n",
              "      --disabled-fill-color: #AAA;\n",
              "      --disabled-bg-color: #DDD;\n",
              "  }\n",
              "\n",
              "  [theme=dark] .colab-df-quickchart {\n",
              "      --bg-color: #3B4455;\n",
              "      --fill-color: #D2E3FC;\n",
              "      --hover-bg-color: #434B5C;\n",
              "      --hover-fill-color: #FFFFFF;\n",
              "      --disabled-bg-color: #3B4455;\n",
              "      --disabled-fill-color: #666;\n",
              "  }\n",
              "\n",
              "  .colab-df-quickchart {\n",
              "    background-color: var(--bg-color);\n",
              "    border: none;\n",
              "    border-radius: 50%;\n",
              "    cursor: pointer;\n",
              "    display: none;\n",
              "    fill: var(--fill-color);\n",
              "    height: 32px;\n",
              "    padding: 0;\n",
              "    width: 32px;\n",
              "  }\n",
              "\n",
              "  .colab-df-quickchart:hover {\n",
              "    background-color: var(--hover-bg-color);\n",
              "    box-shadow: 0 1px 2px rgba(60, 64, 67, 0.3), 0 1px 3px 1px rgba(60, 64, 67, 0.15);\n",
              "    fill: var(--button-hover-fill-color);\n",
              "  }\n",
              "\n",
              "  .colab-df-quickchart-complete:disabled,\n",
              "  .colab-df-quickchart-complete:disabled:hover {\n",
              "    background-color: var(--disabled-bg-color);\n",
              "    fill: var(--disabled-fill-color);\n",
              "    box-shadow: none;\n",
              "  }\n",
              "\n",
              "  .colab-df-spinner {\n",
              "    border: 2px solid var(--fill-color);\n",
              "    border-color: transparent;\n",
              "    border-bottom-color: var(--fill-color);\n",
              "    animation:\n",
              "      spin 1s steps(1) infinite;\n",
              "  }\n",
              "\n",
              "  @keyframes spin {\n",
              "    0% {\n",
              "      border-color: transparent;\n",
              "      border-bottom-color: var(--fill-color);\n",
              "      border-left-color: var(--fill-color);\n",
              "    }\n",
              "    20% {\n",
              "      border-color: transparent;\n",
              "      border-left-color: var(--fill-color);\n",
              "      border-top-color: var(--fill-color);\n",
              "    }\n",
              "    30% {\n",
              "      border-color: transparent;\n",
              "      border-left-color: var(--fill-color);\n",
              "      border-top-color: var(--fill-color);\n",
              "      border-right-color: var(--fill-color);\n",
              "    }\n",
              "    40% {\n",
              "      border-color: transparent;\n",
              "      border-right-color: var(--fill-color);\n",
              "      border-top-color: var(--fill-color);\n",
              "    }\n",
              "    60% {\n",
              "      border-color: transparent;\n",
              "      border-right-color: var(--fill-color);\n",
              "    }\n",
              "    80% {\n",
              "      border-color: transparent;\n",
              "      border-right-color: var(--fill-color);\n",
              "      border-bottom-color: var(--fill-color);\n",
              "    }\n",
              "    90% {\n",
              "      border-color: transparent;\n",
              "      border-bottom-color: var(--fill-color);\n",
              "    }\n",
              "  }\n",
              "</style>\n",
              "\n",
              "  <script>\n",
              "    async function quickchart(key) {\n",
              "      const quickchartButtonEl =\n",
              "        document.querySelector('#' + key + ' button');\n",
              "      quickchartButtonEl.disabled = true;  // To prevent multiple clicks.\n",
              "      quickchartButtonEl.classList.add('colab-df-spinner');\n",
              "      try {\n",
              "        const charts = await google.colab.kernel.invokeFunction(\n",
              "            'suggestCharts', [key], {});\n",
              "      } catch (error) {\n",
              "        console.error('Error during call to suggestCharts:', error);\n",
              "      }\n",
              "      quickchartButtonEl.classList.remove('colab-df-spinner');\n",
              "      quickchartButtonEl.classList.add('colab-df-quickchart-complete');\n",
              "    }\n",
              "    (() => {\n",
              "      let quickchartButtonEl =\n",
              "        document.querySelector('#df-edd637c8-997a-442d-9995-00730665c62b button');\n",
              "      quickchartButtonEl.style.display =\n",
              "        google.colab.kernel.accessAllowed ? 'block' : 'none';\n",
              "    })();\n",
              "  </script>\n",
              "</div>\n",
              "\n",
              "    </div>\n",
              "  </div>\n"
            ],
            "application/vnd.google.colaboratory.intrinsic+json": {
              "type": "dataframe",
              "summary": "{\n  \"name\": \"#These observations will be the subject of our data cleaning to prepare the data for analysis\",\n  \"rows\": 11,\n  \"fields\": [\n    {\n      \"column\": \"Rank\",\n      \"properties\": {\n        \"dtype\": \"number\",\n        \"std\": 5981.976367735057,\n        \"min\": 1.0,\n        \"max\": 16600.0,\n        \"num_unique_values\": 8,\n        \"samples\": [\n          8300.605253645017,\n          8300.5,\n          16598.0\n        ],\n        \"semantic_type\": \"\",\n        \"description\": \"\"\n      }\n    },\n    {\n      \"column\": \"Name\",\n      \"properties\": {\n        \"dtype\": \"category\",\n        \"num_unique_values\": 4,\n        \"samples\": [\n          11493,\n          \"12\",\n          \"16598\"\n        ],\n        \"semantic_type\": \"\",\n        \"description\": \"\"\n      }\n    },\n    {\n      \"column\": \"Platform\",\n      \"properties\": {\n        \"dtype\": \"category\",\n        \"num_unique_values\": 4,\n        \"samples\": [\n          31,\n          \"2163\",\n          \"16598\"\n        ],\n        \"semantic_type\": \"\",\n        \"description\": \"\"\n      }\n    },\n    {\n      \"column\": \"Year\",\n      \"properties\": {\n        \"dtype\": \"number\",\n        \"std\": 5211.893110411977,\n        \"min\": 5.828981114712785,\n        \"max\": 16327.0,\n        \"num_unique_values\": 8,\n        \"samples\": [\n          2006.4064433147546,\n          2007.0,\n          16327.0\n        ],\n        \"semantic_type\": \"\",\n        \"description\": \"\"\n      }\n    },\n    {\n      \"column\": \"Genre\",\n      \"properties\": {\n        \"dtype\": \"category\",\n        \"num_unique_values\": 4,\n        \"samples\": [\n          12,\n          \"3316\",\n          \"16598\"\n        ],\n        \"semantic_type\": \"\",\n        \"description\": \"\"\n      }\n    },\n    {\n      \"column\": \"Publisher\",\n      \"properties\": {\n        \"dtype\": \"category\",\n        \"num_unique_values\": 4,\n        \"samples\": [\n          578,\n          \"1351\",\n          \"16540\"\n        ],\n        \"semantic_type\": \"\",\n        \"description\": \"\"\n      }\n    },\n    {\n      \"column\": \"North America_Sales \\n($ in millions)\",\n      \"properties\": {\n        \"dtype\": \"number\",\n        \"std\": 5864.362835973586,\n        \"min\": 0.0,\n        \"max\": 16593.0,\n        \"num_unique_values\": 7,\n        \"samples\": [\n          16593.0,\n          0.26474718254685714,\n          0.24\n        ],\n        \"semantic_type\": \"\",\n        \"description\": \"\"\n      }\n    },\n    {\n      \"column\": \"Europe_Sales \\n($ in millions)\",\n      \"properties\": {\n        \"dtype\": \"number\",\n        \"std\": 5862.893566523959,\n        \"min\": 0.0,\n        \"max\": 16587.0,\n        \"num_unique_values\": 7,\n        \"samples\": [\n          16587.0,\n          0.14674926146982575,\n          0.11\n        ],\n        \"semantic_type\": \"\",\n        \"description\": \"\"\n      }\n    },\n    {\n      \"column\": \"Japan_Sales\\n($ in millions)\",\n      \"properties\": {\n        \"dtype\": \"number\",\n        \"std\": 5854.307442106626,\n        \"min\": 0.0,\n        \"max\": 16560.0,\n        \"num_unique_values\": 6,\n        \"samples\": [\n          16560.0,\n          0.07796014492753625,\n          10.22\n        ],\n        \"semantic_type\": \"\",\n        \"description\": \"\"\n      }\n    },\n    {\n      \"column\": \"Other_Sales \\n($ in millions)\",\n      \"properties\": {\n        \"dtype\": \"number\",\n        \"std\": 5864.9035590259955,\n        \"min\": 0.0,\n        \"max\": 16590.0,\n        \"num_unique_values\": 7,\n        \"samples\": [\n          16590.0,\n          0.04808619650391803,\n          0.04\n        ],\n        \"semantic_type\": \"\",\n        \"description\": \"\"\n      }\n    },\n    {\n      \"column\": \"Global_Sales \\n($ in millions)\",\n      \"properties\": {\n        \"dtype\": \"number\",\n        \"std\": 5864.029321762032,\n        \"min\": 0.01,\n        \"max\": 16598.0,\n        \"num_unique_values\": 8,\n        \"samples\": [\n          0.5374406555006628,\n          0.17,\n          16598.0\n        ],\n        \"semantic_type\": \"\",\n        \"description\": \"\"\n      }\n    }\n  ]\n}"
            }
          },
          "metadata": {},
          "execution_count": 4
        }
      ],
      "source": [
        "df.describe(include = 'all')\n",
        "#Notice in the output that there are data issues with the quantitative (or ratio) varibles (specifically, Quantity, Price, Revenue, Unit Cost).\n",
        "#The descriptive stats such as std, mean, max, 25, 50 and 75 percentiles, etc. on Price, Revenue and Unit Cost read 'NaN' (Not a Number), indicating issues with the data type\n",
        "  #since they should read as quantitative variables.\n",
        "#These observations will be the subject of our data cleaning to prepare the data for analysis"
      ]
    },
    {
      "cell_type": "markdown",
      "id": "40ca7756-6e10-4aee-bbed-f41c1da2cae4",
      "metadata": {
        "id": "40ca7756-6e10-4aee-bbed-f41c1da2cae4"
      },
      "source": [
        "## 3. Identify the data types in your data"
      ]
    },
    {
      "cell_type": "code",
      "execution_count": 5,
      "id": "8ea25361-dd43-4a9e-9e10-4b20e832464f",
      "metadata": {
        "id": "8ea25361-dd43-4a9e-9e10-4b20e832464f",
        "colab": {
          "base_uri": "https://localhost:8080/"
        },
        "outputId": "c922e558-e6b4-4378-ae7d-98f6c901a5b3"
      },
      "outputs": [
        {
          "output_type": "stream",
          "name": "stdout",
          "text": [
            "<class 'pandas.core.frame.DataFrame'>\n",
            "RangeIndex: 16598 entries, 0 to 16597\n",
            "Data columns (total 11 columns):\n",
            " #   Column                                Non-Null Count  Dtype  \n",
            "---  ------                                --------------  -----  \n",
            " 0   Rank                                  16598 non-null  int64  \n",
            " 1   Name                                  16598 non-null  object \n",
            " 2   Platform                              16598 non-null  object \n",
            " 3   Year                                  16327 non-null  float64\n",
            " 4   Genre                                 16598 non-null  object \n",
            " 5   Publisher                             16540 non-null  object \n",
            " 6   North America_Sales \n",
            "($ in millions)  16593 non-null  float64\n",
            " 7   Europe_Sales \n",
            "($ in millions)         16587 non-null  float64\n",
            " 8   Japan_Sales\n",
            "($ in millions)           16560 non-null  float64\n",
            " 9   Other_Sales \n",
            "($ in millions)          16590 non-null  float64\n",
            " 10  Global_Sales \n",
            "($ in millions)         16598 non-null  float64\n",
            "dtypes: float64(6), int64(1), object(4)\n",
            "memory usage: 1.4+ MB\n"
          ]
        }
      ],
      "source": [
        "df.info()\n",
        "#Displays the data types. An 'Object' dtype is the same as string type. You want to ensure that quantative variables are either integers or float."
      ]
    },
    {
      "cell_type": "markdown",
      "id": "1BtXxQgQB7Cz",
      "metadata": {
        "id": "1BtXxQgQB7Cz"
      },
      "source": [
        "## 3. Identify and Rename Column Names"
      ]
    },
    {
      "cell_type": "markdown",
      "id": "13B9hEtGCj70",
      "metadata": {
        "id": "13B9hEtGCj70"
      },
      "source": [
        "### Identifying column names"
      ]
    },
    {
      "cell_type": "code",
      "execution_count": null,
      "id": "4a356b96-cf9a-4aaa-9ea9-d6d5d1c293cd",
      "metadata": {
        "id": "4a356b96-cf9a-4aaa-9ea9-d6d5d1c293cd"
      },
      "outputs": [],
      "source": [
        "df.columns"
      ]
    },
    {
      "cell_type": "markdown",
      "id": "5a3151a8-083e-4d18-8c80-ec68b7025770",
      "metadata": {
        "id": "5a3151a8-083e-4d18-8c80-ec68b7025770"
      },
      "source": [
        "### Renaming column"
      ]
    },
    {
      "cell_type": "code",
      "execution_count": null,
      "id": "e641f2b3-ecf7-4d89-bd77-27b93f34e8a1",
      "metadata": {
        "id": "e641f2b3-ecf7-4d89-bd77-27b93f34e8a1"
      },
      "outputs": [],
      "source": [
        "df = df.rename(columns={' Revenue ': 'Revenue', ' Price ': 'Price',' Unit Cost': 'UnitCost'})"
      ]
    },
    {
      "cell_type": "markdown",
      "id": "mojz8mwsCsvU",
      "metadata": {
        "id": "mojz8mwsCsvU"
      },
      "source": [
        "# 4. Cleaning Data and Changing Data Type"
      ]
    },
    {
      "cell_type": "markdown",
      "id": "4d37fae9-7cf4-423d-88a8-63dfe6db31d6",
      "metadata": {
        "id": "4d37fae9-7cf4-423d-88a8-63dfe6db31d6"
      },
      "source": [
        "## Cleaning a single column (do not run)"
      ]
    },
    {
      "cell_type": "code",
      "execution_count": null,
      "id": "dbf80f29-feca-4423-ab19-0b4feb033c32",
      "metadata": {
        "id": "dbf80f29-feca-4423-ab19-0b4feb033c32"
      },
      "outputs": [],
      "source": [
        "#df['Revenue'] = df['Revenue'].str.replace(',', '').astype(float)\n",
        "#df['Price'] = df['Price'].str.replace(',', '').astype(float)"
      ]
    },
    {
      "cell_type": "markdown",
      "id": "2861d30b-9aa4-4a51-83f8-e4ce0bd2dcb6",
      "metadata": {
        "id": "2861d30b-9aa4-4a51-83f8-e4ce0bd2dcb6"
      },
      "source": [
        "## Cleaning multiple columns (advanced) and changing data type"
      ]
    },
    {
      "cell_type": "code",
      "execution_count": null,
      "id": "a98b2869-e34d-4cf6-99e3-bee89e33a19d",
      "metadata": {
        "id": "a98b2869-e34d-4cf6-99e3-bee89e33a19d"
      },
      "outputs": [],
      "source": [
        "columns_to_clean = ['Revenue', 'Price']\n",
        "df[columns_to_clean] = df[columns_to_clean].apply(lambda x: x.str.replace(',', '').astype(float))"
      ]
    },
    {
      "cell_type": "code",
      "execution_count": null,
      "id": "dcc2dbb7-78c4-4b27-bc29-9fe142d87d90",
      "metadata": {
        "id": "dcc2dbb7-78c4-4b27-bc29-9fe142d87d90"
      },
      "outputs": [],
      "source": [
        "df.describe(include = 'all')"
      ]
    },
    {
      "cell_type": "code",
      "execution_count": null,
      "id": "c221d3b5-78f7-451f-9e29-4ceaebc4c329",
      "metadata": {
        "id": "c221d3b5-78f7-451f-9e29-4ceaebc4c329"
      },
      "outputs": [],
      "source": [
        "df.info()"
      ]
    },
    {
      "cell_type": "markdown",
      "id": "Xo9tOaILDScQ",
      "metadata": {
        "id": "Xo9tOaILDScQ"
      },
      "source": [
        "# 5. Perform Descriptive Statistics"
      ]
    },
    {
      "cell_type": "code",
      "execution_count": null,
      "id": "e29c7d8a-5125-436d-9683-e220bd7a7aa9",
      "metadata": {
        "id": "e29c7d8a-5125-436d-9683-e220bd7a7aa9"
      },
      "outputs": [],
      "source": [
        "df['Revenue'].mean()"
      ]
    },
    {
      "cell_type": "code",
      "execution_count": null,
      "id": "ca8206fd-99e5-414f-bda6-d2a5e2f4c5f9",
      "metadata": {
        "id": "ca8206fd-99e5-414f-bda6-d2a5e2f4c5f9"
      },
      "outputs": [],
      "source": [
        "df[['Revenue','Price']].median()"
      ]
    },
    {
      "cell_type": "code",
      "execution_count": null,
      "id": "4490f873-80ba-4d78-a758-e57736395583",
      "metadata": {
        "id": "4490f873-80ba-4d78-a758-e57736395583"
      },
      "outputs": [],
      "source": [
        "df.groupby(['Product line','Product type']). count()"
      ]
    },
    {
      "cell_type": "code",
      "execution_count": null,
      "id": "c2d76e02-bd92-4425-af97-696719fce003",
      "metadata": {
        "id": "c2d76e02-bd92-4425-af97-696719fce003"
      },
      "outputs": [],
      "source": [
        "df.groupby('Product line').Revenue.mean()"
      ]
    },
    {
      "cell_type": "markdown",
      "id": "mvqoYOD8AXyx",
      "metadata": {
        "id": "mvqoYOD8AXyx"
      },
      "source": [
        "# 5. Correlation Between Variables"
      ]
    },
    {
      "cell_type": "code",
      "execution_count": null,
      "id": "SCPaaW0jAgOD",
      "metadata": {
        "id": "SCPaaW0jAgOD"
      },
      "outputs": [],
      "source": [
        "correlation = df['Revenue'].corr(df['Price'])\n",
        "print('The correlation between Revenue and Price is', correlation)"
      ]
    },
    {
      "cell_type": "code",
      "execution_count": null,
      "id": "jw9K_xSBCC7l",
      "metadata": {
        "id": "jw9K_xSBCC7l"
      },
      "outputs": [],
      "source": [
        "#df.corr().round(2)  #df contains nonnumeric variables\n",
        "\n",
        "# Select only numeric columns for correlation\n",
        "df_num = df.select_dtypes(include=['number'])\n",
        "\n",
        "# Compute the correlation matrix and round to 2 decimal places\n",
        "correlation_matrix = df_num.corr().round(2)\n",
        "#correlation_matrix"
      ]
    },
    {
      "cell_type": "code",
      "execution_count": null,
      "id": "Kj_WzA9zBMyD",
      "metadata": {
        "id": "Kj_WzA9zBMyD"
      },
      "outputs": [],
      "source": [
        "\n",
        "df_num.corr().style.background_gradient(cmap='coolwarm')"
      ]
    },
    {
      "cell_type": "code",
      "execution_count": null,
      "id": "w_Z5QS7JBJhT",
      "metadata": {
        "id": "w_Z5QS7JBJhT"
      },
      "outputs": [],
      "source": [
        "df_num.corr(method = \"spearman\").round(2).style.background_gradient(cmap='Greens')"
      ]
    },
    {
      "cell_type": "code",
      "execution_count": null,
      "id": "mRiegBqJDzVq",
      "metadata": {
        "id": "mRiegBqJDzVq"
      },
      "outputs": [],
      "source": [
        "correlation_matrix = df_num.corr(method=\"spearman\").round(2)"
      ]
    },
    {
      "cell_type": "code",
      "execution_count": null,
      "id": "NKN6cRj1EkmI",
      "metadata": {
        "id": "NKN6cRj1EkmI"
      },
      "outputs": [],
      "source": [
        "correlation_matrix1 = correlation_matrix.style.format(\"{:.2f}\").background_gradient(cmap=\"Greens\", axis=None).set_properties(**{'text-align': 'center'})\n",
        "correlation_matrix1"
      ]
    },
    {
      "cell_type": "markdown",
      "id": "c0a6f585-2272-419e-98d8-b8c7aa3ad917",
      "metadata": {
        "id": "c0a6f585-2272-419e-98d8-b8c7aa3ad917"
      },
      "source": [
        "\n",
        "### Thank you for participating in this tutorial. Happy learning! ✨ 💪 😀\n",
        "\n",
        "\n",
        "---\n",
        "\n",
        "\n",
        "\n",
        "---\n",
        "\n"
      ]
    },
    {
      "cell_type": "markdown",
      "id": "qxih17GLuKo-",
      "metadata": {
        "id": "qxih17GLuKo-"
      },
      "source": [
        "\n",
        "\n",
        "```\n",
        "```\n",
        "\n",
        "# **Midterm Data (Video Game) Analysis - Tutorials (Class 5)**\n",
        "####Upload the midterm data to files before you run the codes in this notebook\n",
        "\n",
        "\n",
        "---\n",
        "\n",
        "---\n",
        "\n",
        "\n",
        "\n",
        "\n"
      ]
    },
    {
      "cell_type": "markdown",
      "id": "g33wtTAucV1H",
      "metadata": {
        "id": "g33wtTAucV1H"
      },
      "source": [
        "###Import Pandas and Read in Excel Data\n"
      ]
    },
    {
      "cell_type": "code",
      "execution_count": null,
      "id": "zthGH6fwuFUu",
      "metadata": {
        "id": "zthGH6fwuFUu"
      },
      "outputs": [],
      "source": [
        "import pandas as pd\n",
        "import os\n",
        "\n",
        "file_path = \"Worldwide Video Game Market Dataset (for midterm presentation).xlsx\"\n",
        "df = pd.read_excel(file_path, sheet_name='Worldwide Video Game Market', header=1, index_col=False)"
      ]
    },
    {
      "cell_type": "code",
      "execution_count": null,
      "id": "f32f903c-4832-4314-9f60-542e3b91d403",
      "metadata": {
        "id": "f32f903c-4832-4314-9f60-542e3b91d403"
      },
      "outputs": [],
      "source": [
        "#df.describe(include = 'all')"
      ]
    },
    {
      "cell_type": "code",
      "execution_count": null,
      "id": "5YfLEU1gyNb5",
      "metadata": {
        "colab": {
          "base_uri": "https://localhost:8080/"
        },
        "id": "5YfLEU1gyNb5",
        "outputId": "0ecbdad0-55c2-4632-c0ee-bbab54e7a577"
      },
      "outputs": [
        {
          "name": "stdout",
          "output_type": "stream",
          "text": [
            "<class 'pandas.core.frame.DataFrame'>\n",
            "RangeIndex: 16598 entries, 0 to 16597\n",
            "Data columns (total 11 columns):\n",
            " #   Column                                Non-Null Count  Dtype  \n",
            "---  ------                                --------------  -----  \n",
            " 0   Rank                                  16598 non-null  int64  \n",
            " 1   Name                                  16598 non-null  object \n",
            " 2   Platform                              16598 non-null  object \n",
            " 3   Year                                  16327 non-null  float64\n",
            " 4   Genre                                 16598 non-null  object \n",
            " 5   Publisher                             16540 non-null  object \n",
            " 6   North America_Sales \n",
            "($ in millions)  16593 non-null  float64\n",
            " 7   Europe_Sales \n",
            "($ in millions)         16587 non-null  float64\n",
            " 8   Japan_Sales\n",
            "($ in millions)           16560 non-null  float64\n",
            " 9   Other_Sales \n",
            "($ in millions)          16590 non-null  float64\n",
            " 10  Global_Sales \n",
            "($ in millions)         16598 non-null  float64\n",
            "dtypes: float64(6), int64(1), object(4)\n",
            "memory usage: 1.4+ MB\n"
          ]
        }
      ],
      "source": [
        "df.info()"
      ]
    },
    {
      "cell_type": "code",
      "execution_count": null,
      "id": "4iCacTrMzl3H",
      "metadata": {
        "colab": {
          "base_uri": "https://localhost:8080/"
        },
        "id": "4iCacTrMzl3H",
        "outputId": "6a101259-54ae-44d9-c662-305542ec2cea"
      },
      "outputs": [
        {
          "data": {
            "text/plain": [
              "Index(['Rank', 'Name', 'Platform', 'Year', 'Genre', 'Publisher',\n",
              "       'North America_Sales \\n($ in millions)',\n",
              "       'Europe_Sales \\n($ in millions)', 'Japan_Sales\\n($ in millions)',\n",
              "       'Other_Sales \\n($ in millions)', 'Global_Sales \\n($ in millions)'],\n",
              "      dtype='object')"
            ]
          },
          "execution_count": 2,
          "metadata": {},
          "output_type": "execute_result"
        }
      ],
      "source": [
        "df.columns"
      ]
    },
    {
      "cell_type": "code",
      "execution_count": null,
      "id": "-fxzsAWF0L97",
      "metadata": {
        "id": "-fxzsAWF0L97"
      },
      "outputs": [],
      "source": [
        "df = df.rename(columns={'North America_Sales \\n($ in millions)':'NorthAmerica_Sales', 'Europe_Sales \\n($ in millions)': 'Europe_Sales', 'Japan_Sales\\n($ in millions)': 'Japan_Sales', 'Global_Sales \\n($ in millions)':'Global_Sales', 'Other_Sales \\n($ in millions)':'Other_Sales'})"
      ]
    },
    {
      "cell_type": "code",
      "execution_count": null,
      "id": "NUbq1rCK1Elo",
      "metadata": {
        "id": "NUbq1rCK1Elo"
      },
      "outputs": [],
      "source": [
        "# Removes rows that contain any missing values.\n",
        "# df = df.dropna()\n",
        "\n",
        "\n",
        "# Replaces missing values with the mean of each column.\n",
        "# df = df.fillna(df.mean())\n",
        "\n",
        "\n",
        "# Replaces missing values with the median of each column.\n",
        "# df = df.fillna(df.median())\n",
        "\n",
        "\n",
        "# Replaces missing values with 0.\n",
        "# df = df.fillna(0)\n",
        "\n",
        "\n",
        "# Removes columns that contain only missing values.\n",
        "# df = df.dropna(axis=1, how='all')\n",
        "\n",
        "\n",
        "# Remove the column named 'VarZ' from the DataFrame\n",
        "#df = df.drop(columns=['VarZ'])\n",
        "\n",
        "\n",
        "# Fills missing values by carrying forward the previous valid value.\n",
        "# df = df.fillna(method='ffill')\n",
        "\n",
        "\n",
        "# Fills missing values by carrying backward the next valid value.\n",
        "# df = df.fillna(method='bfill')\n",
        "\n",
        "\n",
        "# Replaces all 0 values with `NaN` (missing values).\n",
        "# df = df.replace(0, pd.NA)\n"
      ]
    },
    {
      "cell_type": "code",
      "execution_count": null,
      "id": "2cuuOlANxWB6",
      "metadata": {
        "id": "2cuuOlANxWB6"
      },
      "outputs": [],
      "source": [
        "def summarystats(df, variables):\n",
        "    \"\"\"\n",
        "    Generates a correlation matrix and descriptive statistics for selected variables.\n",
        "\n",
        "    Parameters:\n",
        "    - data: DataFrame containing the dataset\n",
        "    - variables: List of column names for which to calculate correlation and statistics\n",
        "\n",
        "    Returns:\n",
        "    - correlation matrix and descriptive statistics\n",
        "    \"\"\"\n",
        "    # Filter the DataFrame to include only the selected variables\n",
        "    selected_df = df[variables]\n",
        "\n",
        "    # Generate correlation matrix\n",
        "    correlation_matrix = selected_df.corr()\n",
        "\n",
        "    # Generate descriptive statistics\n",
        "    descriptive_stats = selected_df.describe()\n",
        "\n",
        "    return correlation_matrix, descriptive_stats"
      ]
    },
    {
      "cell_type": "code",
      "execution_count": null,
      "id": "p9MHXAIkzzPD",
      "metadata": {
        "id": "p9MHXAIkzzPD"
      },
      "outputs": [],
      "source": [
        "correlation_matrix"
      ]
    },
    {
      "cell_type": "code",
      "execution_count": null,
      "id": "iLfqRAf-0CKE",
      "metadata": {
        "id": "iLfqRAf-0CKE"
      },
      "outputs": [],
      "source": [
        "descriptive_stats.transpose()"
      ]
    },
    {
      "cell_type": "code",
      "execution_count": null,
      "id": "Ogd2EksS2Cye",
      "metadata": {
        "id": "Ogd2EksS2Cye"
      },
      "outputs": [],
      "source": [
        "import matplotlib.pyplot as plt\n",
        "import seaborn as sns\n",
        "\n",
        "def exploratory_plots(df, var1, var2=None):\n",
        "    \"\"\"\n",
        "    Plots a distribution plot and box plot for var1, and a scatter plot between var1 and var2 (if var2 is provided).\n",
        "\n",
        "    Parameters:\n",
        "    - df: The DataFrame containing the data.\n",
        "    - var1: The first variable (column name) to plot the distribution and box plot.\n",
        "    - var2: The second variable (optional) for the scatter plot against var1.\n",
        "    \"\"\"\n",
        "\n",
        "    # Create a distribution plot for var1\n",
        "    plt.figure(figsize=(10, 5))\n",
        "    sns.histplot(df[var1], kde=True, color='blue', bins=30)\n",
        "    plt.title(f'Distribution of {var1}')\n",
        "    plt.xlabel(var1)\n",
        "    plt.ylabel('Frequency')\n",
        "    plt.show()\n",
        "\n",
        "    # Create a box plot for var1 to detect outliers\n",
        "    plt.figure(figsize=(10, 5))\n",
        "    sns.boxplot(x=df[var1], color='orange')\n",
        "    plt.title(f'Box Plot of {var1}')\n",
        "    plt.xlabel(var1)\n",
        "    plt.show()\n",
        "\n",
        "    # Create a scatter plot between var1 and var2\n",
        "    if var2:\n",
        "        plt.figure(figsize=(10, 5))\n",
        "        plt.scatter(df[var1], df[var2], color='green')\n",
        "        plt.title(f'Scatter Plot between {var1} and {var2}')\n",
        "        plt.xlabel(var1)\n",
        "        plt.ylabel(var2)\n",
        "        plt.show()\n",
        "\n"
      ]
    },
    {
      "cell_type": "code",
      "execution_count": null,
      "id": "5hMpg1Jm2CvQ",
      "metadata": {
        "id": "5hMpg1Jm2CvQ"
      },
      "outputs": [],
      "source": [
        "# Example usage\n",
        "exploratory_plots(df, 'NorthAmerica_Sales', 'Europe_Sales')"
      ]
    },
    {
      "cell_type": "markdown",
      "id": "rLnDMRyAKWg4",
      "metadata": {
        "id": "rLnDMRyAKWg4"
      },
      "source": [
        "## More on correlation matrix, heatmap plots"
      ]
    },
    {
      "cell_type": "code",
      "execution_count": null,
      "id": "gYbzW9HdA7D6",
      "metadata": {
        "id": "gYbzW9HdA7D6"
      },
      "outputs": [],
      "source": [
        "import matplotlib.pyplot as plt\n",
        "import seaborn as sns\n",
        "\n",
        "#df.corr().round(2)  #df contains nonnumeric variables\n",
        "\n",
        "# Select only numeric columns for correlation\n",
        "df_num = df.select_dtypes(include=['number'])\n",
        "\n",
        "# Compute the correlation matrix and round to 2 decimal places\n",
        "correlation_matrix = df_num.corr().round(2)\n",
        "#correlation_matrix"
      ]
    },
    {
      "cell_type": "code",
      "execution_count": null,
      "id": "hWcFnajzHCYE",
      "metadata": {
        "id": "hWcFnajzHCYE"
      },
      "outputs": [],
      "source": [
        "df_num.corr().style.background_gradient(cmap='coolwarm')"
      ]
    },
    {
      "cell_type": "code",
      "execution_count": null,
      "id": "qQoQaW3eHLsE",
      "metadata": {
        "id": "qQoQaW3eHLsE"
      },
      "outputs": [],
      "source": [
        "df_num.corr(method = \"spearman\").round(2).style.background_gradient(cmap='Greens')"
      ]
    },
    {
      "cell_type": "code",
      "execution_count": null,
      "id": "vuOsH87tJtlQ",
      "metadata": {
        "id": "vuOsH87tJtlQ"
      },
      "outputs": [],
      "source": [
        "correlation_matrix = df_num.corr(method=\"spearman\").round(2)"
      ]
    },
    {
      "cell_type": "code",
      "execution_count": null,
      "id": "v1wnZrp0Iwnf",
      "metadata": {
        "id": "v1wnZrp0Iwnf"
      },
      "outputs": [],
      "source": [
        "#Using seaborn to plot heatmap of the correlation matrix\n",
        "\n",
        "sns.heatmap(correlation_matrix, cmap = \"Blues\")\n"
      ]
    },
    {
      "cell_type": "code",
      "execution_count": null,
      "id": "iU3s3yW3Jb-A",
      "metadata": {
        "id": "iU3s3yW3Jb-A"
      },
      "outputs": [],
      "source": [
        "sns.heatmap(correlation_matrix, cmap = \"Blues\", vmin=0, vmax=1, annot = True)"
      ]
    },
    {
      "cell_type": "code",
      "execution_count": null,
      "id": "KbmKT29hL5Oq",
      "metadata": {
        "id": "KbmKT29hL5Oq"
      },
      "outputs": [],
      "source": [
        "import matplotlib.pyplot as plt\n",
        "import seaborn as sns\n",
        "import numpy as np\n",
        "\n",
        "# Create a mask to hide the upper triangle of the heatmap\n",
        "mask = np.triu(np.ones_like(correlation_matrix, dtype=bool))\n",
        "sns.heatmap(correlation_matrix, cmap = \"Blues\", vmin=0, vmax=1, annot = True, fmt=\"0.2f\", square = True, mask= np.triu(correlation_matrix))\n",
        "plt.figure(figsize=(10,8))"
      ]
    },
    {
      "cell_type": "markdown",
      "id": "JXS7ylqXL6bN",
      "metadata": {
        "id": "JXS7ylqXL6bN"
      },
      "source": []
    },
    {
      "cell_type": "code",
      "execution_count": null,
      "id": "FCDtpqRTyA7P",
      "metadata": {
        "id": "FCDtpqRTyA7P"
      },
      "outputs": [],
      "source": [
        "variables = ['NorthAmerica_Sales', 'Europe_Sales', 'Japan_Sales', 'Global_Sales', 'Other_Sales']\n",
        "correlation_matrix, descriptive_stats = summarystats(df, variables)"
      ]
    },
    {
      "cell_type": "code",
      "execution_count": null,
      "id": "scjTrGsd2C8W",
      "metadata": {
        "colab": {
          "base_uri": "https://localhost:8080/"
        },
        "id": "scjTrGsd2C8W",
        "outputId": "211f41bc-0311-42e1-83bf-52202e196144"
      },
      "outputs": [
        {
          "name": "stdout",
          "output_type": "stream",
          "text": [
            "The correlation between North America and Europe Sales is 0.768624634592887\n"
          ]
        }
      ],
      "source": [
        "#Correlation between two variables a  and  b\n",
        "correlation = df['NorthAmerica_Sales'].corr(df['Europe_Sales'])\n",
        "print('The correlation between North America and Europe Sales is', correlation)"
      ]
    },
    {
      "cell_type": "code",
      "execution_count": null,
      "id": "BW1xK-TRHYPU",
      "metadata": {
        "id": "BW1xK-TRHYPU"
      },
      "outputs": [],
      "source": [
        "correlation_matrix = df_num.corr(method=\"spearman\").round(2)"
      ]
    },
    {
      "cell_type": "code",
      "execution_count": null,
      "id": "fYNasuuQLNKa",
      "metadata": {
        "id": "fYNasuuQLNKa"
      },
      "outputs": [],
      "source": [
        "correlation_matrix1 = correlation_matrix.style.format(\"{:.2f}\").background_gradient(cmap=\"Greens\", axis=None).set_properties(**{'text-align': 'center'})\n",
        "correlation_matrix1"
      ]
    },
    {
      "cell_type": "markdown",
      "id": "s0T55rL_mKFE",
      "metadata": {
        "id": "s0T55rL_mKFE"
      },
      "source": [
        "### The following groupby operations can be performed for Platform, Genre and Publisher acroos NorthAmerica, Europe, Japan, Global or Other Sales"
      ]
    },
    {
      "cell_type": "code",
      "execution_count": null,
      "id": "k-Gv_9H9lOrM",
      "metadata": {
        "id": "k-Gv_9H9lOrM"
      },
      "outputs": [],
      "source": [
        "#Group the data by platform and sum the sales in Europe\n",
        "Top5_Platforms_Europe_Sales = df.groupby('Platform')['Europe_Sales'].sum().nlargest(5)"
      ]
    },
    {
      "cell_type": "code",
      "execution_count": null,
      "id": "W-GxvoKwHp2k",
      "metadata": {
        "id": "W-GxvoKwHp2k"
      },
      "outputs": [],
      "source": [
        "Top5_Platforms_Europe_Sales"
      ]
    },
    {
      "cell_type": "code",
      "execution_count": null,
      "id": "KwanUQE0lvwK",
      "metadata": {
        "id": "KwanUQE0lvwK"
      },
      "outputs": [],
      "source": [
        "# Group the data by platform and sum the sales in Europe\n",
        "Least5_Platforms_By_Europe_Sales = df.groupby('Platform')['Europe_Sales'].sum().nsmallest(5)"
      ]
    },
    {
      "cell_type": "code",
      "execution_count": null,
      "id": "8trDdOkFHvWM",
      "metadata": {
        "id": "8trDdOkFHvWM"
      },
      "outputs": [],
      "source": [
        "Least5_Platforms_By_Europe_Sales"
      ]
    },
    {
      "cell_type": "code",
      "execution_count": null,
      "id": "_PUrcyv8tfSY",
      "metadata": {
        "id": "_PUrcyv8tfSY"
      },
      "outputs": [],
      "source": [
        "#Group the data by publisher and sum the sales in Europe\n",
        "Top5_Genres_Europe_Sales = df.groupby('Name')['NorthAmerica_Sales'].sum().nlargest(10)"
      ]
    },
    {
      "cell_type": "code",
      "execution_count": null,
      "id": "ewXKsQ7sH08c",
      "metadata": {
        "id": "ewXKsQ7sH08c"
      },
      "outputs": [],
      "source": [
        "Top5_Genres_Europe_Sales"
      ]
    },
    {
      "cell_type": "code",
      "execution_count": null,
      "id": "bybqQNUztz9b",
      "metadata": {
        "id": "bybqQNUztz9b"
      },
      "outputs": [],
      "source": [
        "#Group the data by publisher and sum the sales in Europe\n",
        "Least5_Publishers_Europe_Sales = df.groupby('Publisher')['Europe_Sales'].sum().nsmallest(5)"
      ]
    },
    {
      "cell_type": "code",
      "execution_count": null,
      "id": "SE454oxmH3-s",
      "metadata": {
        "id": "SE454oxmH3-s"
      },
      "outputs": [],
      "source": [
        "Least5_Publishers_Europe_Sales"
      ]
    },
    {
      "cell_type": "markdown",
      "id": "KBAJbFBeoywy",
      "metadata": {
        "id": "KBAJbFBeoywy"
      },
      "source": []
    },
    {
      "cell_type": "markdown",
      "id": "RMWqvLlMo1KT",
      "metadata": {
        "id": "RMWqvLlMo1KT"
      },
      "source": [
        "### Create Dummy Variables from the top 5 'Platform' by Europe_Sales"
      ]
    },
    {
      "cell_type": "code",
      "execution_count": null,
      "id": "Y4OOnYCapAwd",
      "metadata": {
        "id": "Y4OOnYCapAwd"
      },
      "outputs": [],
      "source": [
        "# Start by Standardizing the 'Platform' column by stripping whitespace and converting to lowercase\n",
        "df['Platform'] = df['Platform'].str.strip().str.lower()\n",
        "\n",
        "# Optional: Create a mapping of platform names to standardize variations. This will help enusure data consistency as the following examples show\n",
        "platform_mapping = {\n",
        "    'ps4': 'playstation 4',\n",
        "    'ps3': 'playstation 3',\n",
        "    'xboxone': 'xbox one',\n",
        "    'xbox360': 'xbox 360',\n",
        "    'wiiu': 'wii u',\n",
        "    # Add other mappings as necessary\n",
        "}\n",
        "\n",
        "# Apply the mapping to the 'Platform' column\n",
        "df['Platform'] = df['Platform'].replace(platform_mapping)\n",
        "\n",
        "# Re-standardize after mapping (in case mapped values need it)\n",
        "df['Platform'] = df['Platform'].str.strip().str.lower()\n",
        "\n",
        "# Get the top 5 platforms by Europe_Sales\n",
        "Top5_Platforms_Europe_Sales = df.groupby('Platform')['Europe_Sales'].sum().nlargest(5).index.tolist()\n",
        "\n",
        "# Create dummy variables for all platforms\n",
        "dummy_df = pd.get_dummies(df['Platform'], prefix='Platform', dummy_na=False)\n",
        "\n",
        "# Select only the dummy variables for the top 5 platforms\n",
        "dummy_df = dummy_df[['Platform_' + platform for platform in Top5_Platforms_Europe_Sales]]\n",
        "\n",
        "# Concatenate the dummy variables with the original DataFrame\n",
        "df = pd.concat([df, dummy_df], axis=1)\n",
        "\n",
        "# Display the updated DataFrame with dummy variables\n",
        "print(df.head())"
      ]
    },
    {
      "cell_type": "markdown",
      "id": "ygpElFp9m9k2",
      "metadata": {
        "id": "ygpElFp9m9k2"
      },
      "source": [
        "### Thank you for participating in this tutorial. Happy learning! ✨ 💪 😀"
      ]
    },
    {
      "cell_type": "code",
      "execution_count": null,
      "id": "HN8pTXTl2CoG",
      "metadata": {
        "id": "HN8pTXTl2CoG"
      },
      "outputs": [],
      "source": []
    },
    {
      "cell_type": "code",
      "execution_count": null,
      "id": "fqkXjKLH2Ci9",
      "metadata": {
        "id": "fqkXjKLH2Ci9"
      },
      "outputs": [],
      "source": []
    },
    {
      "cell_type": "code",
      "execution_count": null,
      "id": "GTV-P97i2CSM",
      "metadata": {
        "id": "GTV-P97i2CSM"
      },
      "outputs": [],
      "source": []
    },
    {
      "cell_type": "markdown",
      "id": "8c38b4b0-0c1d-400c-adec-7fa057d42dc8",
      "metadata": {
        "id": "8c38b4b0-0c1d-400c-adec-7fa057d42dc8"
      },
      "source": [
        "#### Get working directory"
      ]
    },
    {
      "cell_type": "code",
      "execution_count": null,
      "id": "b6302d45-5d01-422e-9e0e-72b993eef063",
      "metadata": {
        "id": "b6302d45-5d01-422e-9e0e-72b993eef063"
      },
      "outputs": [],
      "source": [
        "print(os.getcwd())"
      ]
    },
    {
      "cell_type": "markdown",
      "id": "ebd7e16b-817e-4892-b1b1-08004deabff6",
      "metadata": {
        "id": "ebd7e16b-817e-4892-b1b1-08004deabff6"
      },
      "source": [
        "#### For changing working directory"
      ]
    },
    {
      "cell_type": "code",
      "execution_count": null,
      "id": "a1d6df22-2740-490b-8d77-eb6579e90d37",
      "metadata": {
        "id": "a1d6df22-2740-490b-8d77-eb6579e90d37"
      },
      "outputs": [],
      "source": [
        "#os.chdir(r'C:\\Users\\dtreku\\Dropbox\\Dropbox -DANIEL\\WPI\\ACADEM\\TEACHING\\2023-2024 Academic Year\\Inclass Activities')"
      ]
    },
    {
      "cell_type": "code",
      "execution_count": null,
      "id": "5745b7b9-8d24-4999-80db-c4cfa7bb88e3",
      "metadata": {
        "id": "5745b7b9-8d24-4999-80db-c4cfa7bb88e3",
        "outputId": "38f7c180-c299-42e7-996a-f57f80611e9f"
      },
      "outputs": [
        {
          "name": "stdout",
          "output_type": "stream",
          "text": [
            "C:\\Users\\dtreku\\Dropbox\\Dropbox -DANIEL\\WPI\\ACADEM\\TEACHING\\2023-2024 Academic Year\\Inclass Activities\n"
          ]
        }
      ],
      "source": [
        "#print(os.getcwd())"
      ]
    },
    {
      "cell_type": "code",
      "execution_count": null,
      "id": "f16110ca-9b09-4188-ad92-87cdda092c0c",
      "metadata": {
        "id": "f16110ca-9b09-4188-ad92-87cdda092c0c"
      },
      "outputs": [],
      "source": [
        "# Remember to use your own path to the data here!\n",
        "#path = r'C:\\Users\\dtreku\\Dropbox\\Dropbox -DANIEL\\WPI\\ACADEM\\TEACHING\\2023-2024 Academic Year\\Inclass Activities\\SalesData.csv'\n",
        "df = pd.read_csv(\"path\")"
      ]
    }
  ],
  "metadata": {
    "colab": {
      "collapsed_sections": [
        "8c38b4b0-0c1d-400c-adec-7fa057d42dc8",
        "ebd7e16b-817e-4892-b1b1-08004deabff6"
      ],
      "provenance": [],
      "include_colab_link": true
    },
    "kernelspec": {
      "display_name": "Python 3",
      "language": "python",
      "name": "python3"
    },
    "language_info": {
      "codemirror_mode": {
        "name": "ipython",
        "version": 3
      },
      "file_extension": ".py",
      "mimetype": "text/x-python",
      "name": "python",
      "nbconvert_exporter": "python",
      "pygments_lexer": "ipython3",
      "version": "3.12.4"
    }
  },
  "nbformat": 4,
  "nbformat_minor": 5
}